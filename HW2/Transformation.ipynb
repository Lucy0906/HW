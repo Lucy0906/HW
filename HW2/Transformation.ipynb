{
  "nbformat": 4,
  "nbformat_minor": 0,
  "metadata": {
    "colab": {
      "provenance": []
    },
    "kernelspec": {
      "name": "python3",
      "display_name": "Python 3"
    },
    "language_info": {
      "name": "python"
    }
  },
  "cells": [
    {
      "cell_type": "code",
      "execution_count": 1,
      "metadata": {
        "colab": {
          "base_uri": "https://localhost:8080/"
        },
        "id": "K_7enHgpR8Wf",
        "outputId": "d76beb04-6f0e-4cb7-d372-db348a805ada"
      },
      "outputs": [
        {
          "output_type": "stream",
          "name": "stdout",
          "text": [
            "Collecting azure-storage-blob\n",
            "  Downloading azure_storage_blob-12.20.0-py3-none-any.whl (392 kB)\n",
            "\u001b[2K     \u001b[90m━━━━━━━━━━━━━━━━━━━━━━━━━━━━━━━━━━━━━━━━\u001b[0m \u001b[32m392.2/392.2 kB\u001b[0m \u001b[31m5.0 MB/s\u001b[0m eta \u001b[36m0:00:00\u001b[0m\n",
            "\u001b[?25hCollecting azure-core>=1.28.0 (from azure-storage-blob)\n",
            "  Downloading azure_core-1.30.1-py3-none-any.whl (193 kB)\n",
            "\u001b[2K     \u001b[90m━━━━━━━━━━━━━━━━━━━━━━━━━━━━━━━━━━━━━━━━\u001b[0m \u001b[32m193.4/193.4 kB\u001b[0m \u001b[31m8.1 MB/s\u001b[0m eta \u001b[36m0:00:00\u001b[0m\n",
            "\u001b[?25hRequirement already satisfied: cryptography>=2.1.4 in /usr/local/lib/python3.10/dist-packages (from azure-storage-blob) (42.0.7)\n",
            "Requirement already satisfied: typing-extensions>=4.6.0 in /usr/local/lib/python3.10/dist-packages (from azure-storage-blob) (4.11.0)\n",
            "Collecting isodate>=0.6.1 (from azure-storage-blob)\n",
            "  Downloading isodate-0.6.1-py2.py3-none-any.whl (41 kB)\n",
            "\u001b[2K     \u001b[90m━━━━━━━━━━━━━━━━━━━━━━━━━━━━━━━━━━━━━━━━\u001b[0m \u001b[32m41.7/41.7 kB\u001b[0m \u001b[31m3.1 MB/s\u001b[0m eta \u001b[36m0:00:00\u001b[0m\n",
            "\u001b[?25hRequirement already satisfied: requests>=2.21.0 in /usr/local/lib/python3.10/dist-packages (from azure-core>=1.28.0->azure-storage-blob) (2.31.0)\n",
            "Requirement already satisfied: six>=1.11.0 in /usr/local/lib/python3.10/dist-packages (from azure-core>=1.28.0->azure-storage-blob) (1.16.0)\n",
            "Requirement already satisfied: cffi>=1.12 in /usr/local/lib/python3.10/dist-packages (from cryptography>=2.1.4->azure-storage-blob) (1.16.0)\n",
            "Requirement already satisfied: pycparser in /usr/local/lib/python3.10/dist-packages (from cffi>=1.12->cryptography>=2.1.4->azure-storage-blob) (2.22)\n",
            "Requirement already satisfied: charset-normalizer<4,>=2 in /usr/local/lib/python3.10/dist-packages (from requests>=2.21.0->azure-core>=1.28.0->azure-storage-blob) (3.3.2)\n",
            "Requirement already satisfied: idna<4,>=2.5 in /usr/local/lib/python3.10/dist-packages (from requests>=2.21.0->azure-core>=1.28.0->azure-storage-blob) (3.7)\n",
            "Requirement already satisfied: urllib3<3,>=1.21.1 in /usr/local/lib/python3.10/dist-packages (from requests>=2.21.0->azure-core>=1.28.0->azure-storage-blob) (2.0.7)\n",
            "Requirement already satisfied: certifi>=2017.4.17 in /usr/local/lib/python3.10/dist-packages (from requests>=2.21.0->azure-core>=1.28.0->azure-storage-blob) (2024.2.2)\n",
            "Installing collected packages: isodate, azure-core, azure-storage-blob\n",
            "Successfully installed azure-core-1.30.1 azure-storage-blob-12.20.0 isodate-0.6.1\n",
            "Requirement already satisfied: pyarrow in /usr/local/lib/python3.10/dist-packages (14.0.2)\n",
            "Requirement already satisfied: numpy>=1.16.6 in /usr/local/lib/python3.10/dist-packages (from pyarrow) (1.25.2)\n",
            "Requirement already satisfied: psycopg2 in /usr/local/lib/python3.10/dist-packages (2.9.9)\n",
            "Requirement already satisfied: sqlalchemy in /usr/local/lib/python3.10/dist-packages (2.0.30)\n",
            "Requirement already satisfied: typing-extensions>=4.6.0 in /usr/local/lib/python3.10/dist-packages (from sqlalchemy) (4.11.0)\n",
            "Requirement already satisfied: greenlet!=0.4.17 in /usr/local/lib/python3.10/dist-packages (from sqlalchemy) (3.0.3)\n"
          ]
        }
      ],
      "source": [
        "!pip install azure-storage-blob # Microoft Azure\n",
        "!pip install pyarrow\n",
        "!pip install psycopg2 sqlalchemy"
      ]
    },
    {
      "cell_type": "code",
      "source": [
        "import pandas as pd\n",
        "import numpy as np\n",
        "import json\n",
        "import requests\n",
        "from io import StringIO\n",
        "from azure.storage.blob import BlobServiceClient, BlobClient, ContainerClient\n",
        "from math import ceil\n",
        "import datetime\n",
        "import calendar\n",
        "from sqlalchemy import create_engine"
      ],
      "metadata": {
        "id": "G7gxji3Ldv2B"
      },
      "execution_count": 2,
      "outputs": []
    },
    {
      "cell_type": "code",
      "source": [
        "# Azure Functions\n",
        "def azure_upload_blob(connect_str, container_name, blob_name, data):\n",
        "    blob_service_client = BlobServiceClient.from_connection_string(connect_str)\n",
        "    blob_client = blob_service_client.get_blob_client(container=container_name, blob=blob_name)\n",
        "    blob_client.upload_blob(data, overwrite=True)\n",
        "    print(f\"Uploaded to Azure Blob: {blob_name}\")\n",
        "\n",
        "def azure_download_blob(connect_str, container_name, blob_name):\n",
        "    blob_service_client = BlobServiceClient.from_connection_string(connect_str)\n",
        "    blob_client = blob_service_client.get_blob_client(container=container_name, blob=blob_name)\n",
        "    download_stream = blob_client.download_blob()\n",
        "    return download_stream.readall()\n",
        "\n",
        "# Google Cloud Functions\n",
        "def google_upload_blob(bucket_name, source_file_name, destination_blob_name):\n",
        "    storage_client = storage.Client()\n",
        "    bucket = storage_client.bucket(bucket_name)\n",
        "    blob = bucket.blob(destination_blob_name)\n",
        "    blob.upload_from_filename(source_file_name)\n",
        "    print(f\"File {source_file_name} uploaded to {destination_blob_name}.\")\n",
        "\n",
        "def google_download_blob(bucket_name, source_blob_name, destination_file_name):\n",
        "    storage_client = storage.Client()\n",
        "    bucket = storage_client.bucket(bucket_name)\n",
        "    blob = bucket.blob(source_blob_name)\n",
        "    blob.download_to_filename(destination_file_name)\n",
        "    print(f\"Blob {source_blob_name} downloaded to {destination_file_name}.\")\n",
        "\n",
        "# AWS Functions\n",
        "def aws_upload_file(file_name, bucket, object_name=None):\n",
        "    if object_name is None:\n",
        "        object_name = os.path.basename(file_name)\n",
        "    s3_client = boto3.client('s3')\n",
        "    response = s3_client.upload_file(file_name, bucket, object_name)\n",
        "    print(f\"Uploaded {file_name} to S3 bucket {bucket}.\")\n",
        "\n",
        "def aws_download_file(bucket, object_name, file_name):\n",
        "    s3_client = boto3.client('s3')\n",
        "    s3_client.download_file(bucket, object_name, file_name)\n",
        "    print(f\"Downloaded {object_name} from S3 bucket {bucket}.\")"
      ],
      "metadata": {
        "id": "EMqR3ZGSd95T"
      },
      "execution_count": 3,
      "outputs": []
    },
    {
      "cell_type": "code",
      "source": [
        "import pandas as pd\n",
        "\n",
        "# Load data directly from the NYC Open Data API\n",
        "url = \"https://data.cityofnewyork.us/resource/w7w3-xahh.csv\"\n",
        "data = pd.read_csv(url)\n",
        "\n",
        "# Basic data cleaning\n",
        "data['business_name'] = data['business_name'].str.upper()\n",
        "data['license_creation_date'] = pd.to_datetime(data['license_creation_date'])\n",
        "\n",
        "# Remove duplicates\n",
        "data = data.drop_duplicates()\n",
        "\n",
        "# Fill missing values\n",
        "\n",
        "\n",
        "# Data transformation example: Extract year from date\n"
      ],
      "metadata": {
        "id": "rXzS7cgYhMTN"
      },
      "execution_count": 8,
      "outputs": []
    },
    {
      "cell_type": "code",
      "source": [
        "# Display basic information and the first few rows to understand what the data looks like\n",
        "print(data.info())\n",
        "print(data.head())\n",
        "\n",
        "# Check for the number of missing values per column\n",
        "print(data.isnull().sum())\n"
      ],
      "metadata": {
        "colab": {
          "base_uri": "https://localhost:8080/"
        },
        "id": "VVpE4UGiqR6n",
        "outputId": "75ff4376-1a27-4305-9924-a5f9e6b38109"
      },
      "execution_count": 9,
      "outputs": [
        {
          "output_type": "stream",
          "name": "stdout",
          "text": [
            "<class 'pandas.core.frame.DataFrame'>\n",
            "RangeIndex: 1000 entries, 0 to 999\n",
            "Data columns (total 27 columns):\n",
            " #   Column                 Non-Null Count  Dtype         \n",
            "---  ------                 --------------  -----         \n",
            " 0   license_nbr            1000 non-null   object        \n",
            " 1   license_type           1000 non-null   object        \n",
            " 2   lic_expir_dd           984 non-null    object        \n",
            " 3   license_status         1000 non-null   object        \n",
            " 4   license_creation_date  1000 non-null   datetime64[ns]\n",
            " 5   industry               1000 non-null   object        \n",
            " 6   business_name          997 non-null    object        \n",
            " 7   business_name_2        192 non-null    object        \n",
            " 8   address_building       756 non-null    object        \n",
            " 9   address_street_name    759 non-null    object        \n",
            " 10  address_street_name_2  44 non-null     object        \n",
            " 11  address_city           998 non-null    object        \n",
            " 12  address_state          997 non-null    object        \n",
            " 13  address_zip            998 non-null    object        \n",
            " 14  contact_phone          727 non-null    object        \n",
            " 15  address_borough        759 non-null    object        \n",
            " 16  detail                 713 non-null    float64       \n",
            " 17  community_board        698 non-null    float64       \n",
            " 18  council_district       703 non-null    float64       \n",
            " 19  bin                    675 non-null    float64       \n",
            " 20  bbl                    675 non-null    float64       \n",
            " 21  nta                    422 non-null    object        \n",
            " 22  census_tract           422 non-null    float64       \n",
            " 23  detail_2               174 non-null    object        \n",
            " 24  longitude              705 non-null    float64       \n",
            " 25  latitude               705 non-null    float64       \n",
            " 26  location               705 non-null    object        \n",
            "dtypes: datetime64[ns](1), float64(8), object(18)\n",
            "memory usage: 211.1+ KB\n",
            "None\n",
            "   license_nbr license_type             lic_expir_dd license_status  \\\n",
            "0  0967332-DCA     Business  2017-02-28T00:00:00.000       Inactive   \n",
            "1  2103411-DCA   Individual  2024-03-31T00:00:00.000         Active   \n",
            "2  2060087-DCA   Individual  2024-03-31T00:00:00.000         Active   \n",
            "3  2078026-DCA   Individual  2024-03-31T00:00:00.000         Active   \n",
            "4  2057801-DCA   Individual  2019-02-28T00:00:00.000       Inactive   \n",
            "\n",
            "  license_creation_date                      industry        business_name  \\\n",
            "0            2010-02-04   Home Improvement Contractor  BARBARINO, JOHN JR.   \n",
            "1            2022-01-11             Sightseeing Guide      NIECIAK, JOSEPH   \n",
            "2            2017-10-31             Sightseeing Guide        ARCARO, TYLER   \n",
            "3            2018-09-11             Sightseeing Guide       HESSE, DAPHNEE   \n",
            "4            2017-09-01  Home Improvement Salesperson       ESCOBAR, KEVIN   \n",
            "\n",
            "                      business_name_2 address_building address_street_name  \\\n",
            "0  JOHN BARBARINO JR_HOME IMPROVEMENT              239          MEDFORD CT   \n",
            "1                                 NaN              NaN                 NaN   \n",
            "2                                 NaN              NaN                 NaN   \n",
            "3                                 NaN              NaN                 NaN   \n",
            "4                                 NaN              NaN                 NaN   \n",
            "\n",
            "   ... community_board council_district bin bbl  nta census_tract  detail_2  \\\n",
            "0  ...             NaN              NaN NaN NaN  NaN          NaN       NaN   \n",
            "1  ...             NaN              NaN NaN NaN  NaN          NaN       NaN   \n",
            "2  ...             NaN              NaN NaN NaN  NaN          NaN       NaN   \n",
            "3  ...             NaN              NaN NaN NaN  NaN          NaN       NaN   \n",
            "4  ...             NaN              NaN NaN NaN  NaN          NaN       NaN   \n",
            "\n",
            "   longitude  latitude  location  \n",
            "0        NaN       NaN       NaN  \n",
            "1        NaN       NaN       NaN  \n",
            "2        NaN       NaN       NaN  \n",
            "3        NaN       NaN       NaN  \n",
            "4        NaN       NaN       NaN  \n",
            "\n",
            "[5 rows x 27 columns]\n",
            "license_nbr                0\n",
            "license_type               0\n",
            "lic_expir_dd              16\n",
            "license_status             0\n",
            "license_creation_date      0\n",
            "industry                   0\n",
            "business_name              3\n",
            "business_name_2          808\n",
            "address_building         244\n",
            "address_street_name      241\n",
            "address_street_name_2    956\n",
            "address_city               2\n",
            "address_state              3\n",
            "address_zip                2\n",
            "contact_phone            273\n",
            "address_borough          241\n",
            "detail                   287\n",
            "community_board          302\n",
            "council_district         297\n",
            "bin                      325\n",
            "bbl                      325\n",
            "nta                      578\n",
            "census_tract             578\n",
            "detail_2                 826\n",
            "longitude                295\n",
            "latitude                 295\n",
            "location                 295\n",
            "dtype: int64\n"
          ]
        }
      ]
    },
    {
      "cell_type": "code",
      "source": [
        "# Filling missing values with a placeholder or the most common value\n",
        "data['business_name'].fillna('Unknown Business', inplace=True)\n",
        "data['address_city'].fillna('Unknown City', inplace=True)\n",
        "data['address_state'].fillna(data['address_state'].mode()[0], inplace=True)  # mode for categorical\n",
        "data['address_zip'].fillna('Unknown ZIP', inplace=True)\n"
      ],
      "metadata": {
        "id": "xCyWBZ0fsJJi"
      },
      "execution_count": 11,
      "outputs": []
    },
    {
      "cell_type": "code",
      "source": [
        "# Dropping columns with excessive missing values\n",
        "data.drop(columns=['business_name_2', 'address_street_name_2', 'detail_2'], inplace=True)\n"
      ],
      "metadata": {
        "id": "kNwMMMddsK4L"
      },
      "execution_count": 12,
      "outputs": []
    },
    {
      "cell_type": "code",
      "source": [
        "# Filling geographical data with a default or mean value\n",
        "default_longitude = data['longitude'].mean()\n",
        "default_latitude = data['latitude'].mean()\n",
        "data['longitude'].fillna(default_longitude, inplace=True)\n",
        "data['latitude'].fillna(default_latitude, inplace=True)\n",
        "\n",
        "# For contact phone, consider a placeholder\n",
        "data['contact_phone'].fillna('No Contact Available', inplace=True)\n",
        "\n"
      ],
      "metadata": {
        "id": "Ibwwi6uJrQEK"
      },
      "execution_count": 14,
      "outputs": []
    },
    {
      "cell_type": "code",
      "source": [
        "# Conditional filling based on other data or dropping\n",
        "data['address_building'].fillna('No Building Info', inplace=True)\n",
        "data['address_borough'].fillna('Unknown Borough', inplace=True)\n"
      ],
      "metadata": {
        "id": "z5mVofiMsUlr"
      },
      "execution_count": 15,
      "outputs": []
    },
    {
      "cell_type": "code",
      "source": [
        "# Convert date fields to datetime objects\n",
        "data['license_creation_date'] = pd.to_datetime(data['license_creation_date'])\n",
        "data['lic_expir_dd'] = pd.to_datetime(data['lic_expir_dd'], errors='coerce')  # Handle errors if format varies\n",
        "\n",
        "# Categorical data\n",
        "data['license_type'] = data['license_type'].astype('category')\n",
        "data['industry'] = data['industry'].astype('category')\n",
        "data['license_status'] = data['license_status'].astype('category')\n"
      ],
      "metadata": {
        "id": "UCv2N0kYsPTj"
      },
      "execution_count": 16,
      "outputs": []
    },
    {
      "cell_type": "code",
      "source": [
        "data.drop_duplicates(subset=['license_nbr', 'business_name', 'address_zip'], inplace=True)\n"
      ],
      "metadata": {
        "id": "wSyHLvLpsZce"
      },
      "execution_count": 17,
      "outputs": []
    },
    {
      "cell_type": "code",
      "source": [
        "data.to_csv('cleaned_legally_operating_businesses.csv', index=False)\n"
      ],
      "metadata": {
        "id": "74j61u8escAk"
      },
      "execution_count": 18,
      "outputs": []
    },
    {
      "cell_type": "code",
      "source": [
        "import pandas as pd\n",
        "\n",
        "# Assuming data has already been cleaned and loaded into a DataFrame named 'data'\n",
        "data = pd.read_csv('cleaned_legally_operating_businesses.csv')  # Example loading cleaned data\n",
        "\n",
        "# Create a DataFrame to hold data mapping information\n",
        "data_mapping = pd.DataFrame({\n",
        "    'Field Name': data.columns,\n",
        "    'Data Type': data.dtypes.astype(str),\n",
        "    'Description': ['Description of ' + col for col in data.columns],  # Placeholder descriptions\n",
        "    'Source Column': data.columns,  # Assuming direct mapping for simplicity\n",
        "    'Destination Column': data.columns  # Assuming no change in column names after cleaning\n",
        "})\n",
        "\n",
        "# Display the data mapping\n",
        "print(data_mapping)"
      ],
      "metadata": {
        "colab": {
          "base_uri": "https://localhost:8080/"
        },
        "id": "vACabB0stG7H",
        "outputId": "d8ba6a29-f1f0-4a3b-9d78-d360548dcb90"
      },
      "execution_count": 19,
      "outputs": [
        {
          "output_type": "stream",
          "name": "stdout",
          "text": [
            "                                  Field Name Data Type  \\\n",
            "license_nbr                      license_nbr    object   \n",
            "license_type                    license_type    object   \n",
            "lic_expir_dd                    lic_expir_dd    object   \n",
            "license_status                license_status    object   \n",
            "license_creation_date  license_creation_date    object   \n",
            "industry                            industry    object   \n",
            "business_name                  business_name    object   \n",
            "address_building            address_building    object   \n",
            "address_street_name      address_street_name    object   \n",
            "address_city                    address_city    object   \n",
            "address_state                  address_state    object   \n",
            "address_zip                      address_zip    object   \n",
            "contact_phone                  contact_phone    object   \n",
            "address_borough              address_borough    object   \n",
            "detail                                detail   float64   \n",
            "community_board              community_board   float64   \n",
            "council_district            council_district   float64   \n",
            "bin                                      bin   float64   \n",
            "bbl                                      bbl   float64   \n",
            "nta                                      nta    object   \n",
            "census_tract                    census_tract   float64   \n",
            "longitude                          longitude   float64   \n",
            "latitude                            latitude   float64   \n",
            "location                            location    object   \n",
            "\n",
            "                                                Description  \\\n",
            "license_nbr                      Description of license_nbr   \n",
            "license_type                    Description of license_type   \n",
            "lic_expir_dd                    Description of lic_expir_dd   \n",
            "license_status                Description of license_status   \n",
            "license_creation_date  Description of license_creation_date   \n",
            "industry                            Description of industry   \n",
            "business_name                  Description of business_name   \n",
            "address_building            Description of address_building   \n",
            "address_street_name      Description of address_street_name   \n",
            "address_city                    Description of address_city   \n",
            "address_state                  Description of address_state   \n",
            "address_zip                      Description of address_zip   \n",
            "contact_phone                  Description of contact_phone   \n",
            "address_borough              Description of address_borough   \n",
            "detail                                Description of detail   \n",
            "community_board              Description of community_board   \n",
            "council_district            Description of council_district   \n",
            "bin                                      Description of bin   \n",
            "bbl                                      Description of bbl   \n",
            "nta                                      Description of nta   \n",
            "census_tract                    Description of census_tract   \n",
            "longitude                          Description of longitude   \n",
            "latitude                            Description of latitude   \n",
            "location                            Description of location   \n",
            "\n",
            "                               Source Column     Destination Column  \n",
            "license_nbr                      license_nbr            license_nbr  \n",
            "license_type                    license_type           license_type  \n",
            "lic_expir_dd                    lic_expir_dd           lic_expir_dd  \n",
            "license_status                license_status         license_status  \n",
            "license_creation_date  license_creation_date  license_creation_date  \n",
            "industry                            industry               industry  \n",
            "business_name                  business_name          business_name  \n",
            "address_building            address_building       address_building  \n",
            "address_street_name      address_street_name    address_street_name  \n",
            "address_city                    address_city           address_city  \n",
            "address_state                  address_state          address_state  \n",
            "address_zip                      address_zip            address_zip  \n",
            "contact_phone                  contact_phone          contact_phone  \n",
            "address_borough              address_borough        address_borough  \n",
            "detail                                detail                 detail  \n",
            "community_board              community_board        community_board  \n",
            "council_district            council_district       council_district  \n",
            "bin                                      bin                    bin  \n",
            "bbl                                      bbl                    bbl  \n",
            "nta                                      nta                    nta  \n",
            "census_tract                    census_tract           census_tract  \n",
            "longitude                          longitude              longitude  \n",
            "latitude                            latitude               latitude  \n",
            "location                            location               location  \n"
          ]
        }
      ]
    },
    {
      "cell_type": "code",
      "source": [
        "# Export to CSV\n",
        "data_mapping.to_csv('data_mapping.csv', index=False)\n",
        "\n",
        "# Optionally, integrate into documentation tools or data dictionaries as needed"
      ],
      "metadata": {
        "id": "Qj0QeMDft_iz"
      },
      "execution_count": 20,
      "outputs": []
    },
    {
      "cell_type": "code",
      "source": [
        "descriptions = {\n",
        "    'license_nbr': \"Unique identifier for each business license issued.\",\n",
        "    'license_type': \"Categorization of the license according to the regulatory standards.\",\n",
        "    'lic_expir_dd': \"The expiration date of the business license.\",\n",
        "    'license_status': \"Current status of the license (e.g., Active, Expired, Suspended).\",\n",
        "    'license_creation_date': \"The date on which the license was initially issued.\",\n",
        "    'industry': \"The sector or category of business activity as defined by regulatory guidelines.\",\n",
        "    'business_name': \"Official registered name of the business entity.\",\n",
        "    'address_city': \"City in which the business is located.\",\n",
        "    'address_state': \"State in which the business is located.\",\n",
        "    'address_zip': \"ZIP code for the business's location.\",\n",
        "    'contact_phone': \"Contact phone number for the business.\"\n",
        "}\n",
        "\n",
        "# Update the data mapping DataFrame with these descriptions\n",
        "data_mapping['Description'] = data_mapping['Field Name'].map(descriptions)\n"
      ],
      "metadata": {
        "id": "u1SORYFHuExu"
      },
      "execution_count": 21,
      "outputs": []
    },
    {
      "cell_type": "code",
      "source": [
        "import pandas as pd\n",
        "\n",
        "# Assuming the cleaned data was saved as 'cleaned_legally_operating_businesses.csv'\n",
        "data = pd.read_csv('cleaned_legally_operating_businesses.csv')\n"
      ],
      "metadata": {
        "id": "EEGCJCt5uNb5"
      },
      "execution_count": 22,
      "outputs": []
    },
    {
      "cell_type": "code",
      "source": [
        "# Standardize date format and extract components\n",
        "data['license_creation_date'] = pd.to_datetime(data['license_creation_date'], errors='coerce')\n",
        "data['Year'] = data['license_creation_date'].dt.year\n",
        "data['Month'] = data['license_creation_date'].dt.month\n",
        "data['Day'] = data['license_creation_date'].dt.day\n"
      ],
      "metadata": {
        "id": "Md1bDDwAvnWo"
      },
      "execution_count": 23,
      "outputs": []
    },
    {
      "cell_type": "code",
      "source": [
        "# One-hot encoding for 'industry' column\n",
        "industry_dummies = pd.get_dummies(data['industry'], prefix='industry')\n",
        "data = pd.concat([data, industry_dummies], axis=1)\n"
      ],
      "metadata": {
        "id": "mT8C2mSEvqNI"
      },
      "execution_count": 24,
      "outputs": []
    },
    {
      "cell_type": "code",
      "source": [
        "# Assuming 'lic_expir_dd' is also a date column\n",
        "data['lic_expir_dd'] = pd.to_datetime(data['lic_expir_dd'], errors='coerce')\n",
        "data['Days_Until_Expiry'] = (data['lic_expir_dd'] - pd.to_datetime('today')).dt.days\n"
      ],
      "metadata": {
        "id": "LJleNveRvtzh"
      },
      "execution_count": 25,
      "outputs": []
    },
    {
      "cell_type": "code",
      "source": [
        "# Standardizing text data\n",
        "data['business_name'] = data['business_name'].str.title()  # Capitalize first letter of each word\n"
      ],
      "metadata": {
        "id": "IrKo2FwmvyIX"
      },
      "execution_count": 26,
      "outputs": []
    },
    {
      "cell_type": "code",
      "source": [
        "# Drop original 'industry' column after encoding\n",
        "data.drop('industry', axis=1, inplace=True)\n"
      ],
      "metadata": {
        "id": "loVN0yXQv04V"
      },
      "execution_count": 27,
      "outputs": []
    },
    {
      "cell_type": "code",
      "source": [
        "from sklearn.preprocessing import MinMaxScaler\n",
        "\n",
        "# Normalize a numeric column, e.g., 'Days_Until_Expiry'\n",
        "scaler = MinMaxScaler()\n",
        "data['Days_Until_Expiry_Normalized'] = scaler.fit_transform(data[['Days_Until_Expiry']])\n"
      ],
      "metadata": {
        "id": "QNHfAJo2v3I2"
      },
      "execution_count": 28,
      "outputs": []
    },
    {
      "cell_type": "code",
      "source": [
        "# Check the final DataFrame to ensure all transformations are applied correctly\n",
        "print(data.head())\n",
        "\n",
        "# Save the transformed data back to CSV\n",
        "data.to_csv('transformed_legally_operating_businesses.csv', index=False)\n"
      ],
      "metadata": {
        "colab": {
          "base_uri": "https://localhost:8080/"
        },
        "id": "ivaO4_3Qv51m",
        "outputId": "f7428019-3f10-43b8-e774-4cd9eda5f61e"
      },
      "execution_count": 29,
      "outputs": [
        {
          "output_type": "stream",
          "name": "stdout",
          "text": [
            "   license_nbr license_type lic_expir_dd license_status license_creation_date  \\\n",
            "0  0967332-DCA     Business   2017-02-28       Inactive            2010-02-04   \n",
            "1  2103411-DCA   Individual   2024-03-31         Active            2022-01-11   \n",
            "2  2060087-DCA   Individual   2024-03-31         Active            2017-10-31   \n",
            "3  2078026-DCA   Individual   2024-03-31         Active            2018-09-11   \n",
            "4  2057801-DCA   Individual   2019-02-28       Inactive            2017-09-01   \n",
            "\n",
            "         business_name  address_building address_street_name address_city  \\\n",
            "0  Barbarino, John Jr.               239          MEDFORD CT    MANALAPAN   \n",
            "1      Nieciak, Joseph  No Building Info                 NaN     BROOKLYN   \n",
            "2        Arcaro, Tyler  No Building Info                 NaN     NEW YORK   \n",
            "3       Hesse, Daphnee  No Building Info                 NaN    Vancouver   \n",
            "4       Escobar, Kevin  No Building Info                 NaN      CHESTER   \n",
            "\n",
            "      address_state  ... industry_Special Sale industry_Stoop Line Stand  \\\n",
            "0                NJ  ...                 False                     False   \n",
            "1                NY  ...                 False                     False   \n",
            "2                NY  ...                 False                     False   \n",
            "3  British Columbia  ...                 False                     False   \n",
            "4                PA  ...                 False                     False   \n",
            "\n",
            "  industry_Third Party Food Delivery  industry_Ticket Seller  \\\n",
            "0                              False                   False   \n",
            "1                              False                   False   \n",
            "2                              False                   False   \n",
            "3                              False                   False   \n",
            "4                              False                   False   \n",
            "\n",
            "   industry_Ticket Seller Business  industry_Tobacco Retail Dealer  \\\n",
            "0                            False                           False   \n",
            "1                            False                           False   \n",
            "2                            False                           False   \n",
            "3                            False                           False   \n",
            "4                            False                           False   \n",
            "\n",
            "   industry_Tow Truck Company  industry_Tow Truck Driver Days_Until_Expiry  \\\n",
            "0                       False                      False           -2633.0   \n",
            "1                       False                      False             -45.0   \n",
            "2                       False                      False             -45.0   \n",
            "3                       False                      False             -45.0   \n",
            "4                       False                      False           -1903.0   \n",
            "\n",
            "   Days_Until_Expiry_Normalized  \n",
            "0                      0.605237  \n",
            "1                      0.931017  \n",
            "2                      0.931017  \n",
            "3                      0.931017  \n",
            "4                      0.697130  \n",
            "\n",
            "[5 rows x 69 columns]\n"
          ]
        }
      ]
    }
  ]
}
