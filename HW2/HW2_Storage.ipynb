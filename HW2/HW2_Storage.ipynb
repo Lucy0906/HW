{
  "nbformat": 4,
  "nbformat_minor": 0,
  "metadata": {
    "colab": {
      "provenance": []
    },
    "kernelspec": {
      "name": "python3",
      "display_name": "Python 3"
    },
    "language_info": {
      "name": "python"
    }
  },
  "cells": [
    {
      "cell_type": "code",
      "execution_count": 1,
      "metadata": {
        "colab": {
          "base_uri": "https://localhost:8080/"
        },
        "id": "oKeRWNVVR-Hk",
        "outputId": "685a9f1f-90da-4ec3-b639-51e91293ea86"
      },
      "outputs": [
        {
          "output_type": "stream",
          "name": "stdout",
          "text": [
            "Collecting azure-storage-blob\n",
            "  Downloading azure_storage_blob-12.20.0-py3-none-any.whl (392 kB)\n",
            "\u001b[2K     \u001b[90m━━━━━━━━━━━━━━━━━━━━━━━━━━━━━━━━━━━━━━━━\u001b[0m \u001b[32m392.2/392.2 kB\u001b[0m \u001b[31m3.9 MB/s\u001b[0m eta \u001b[36m0:00:00\u001b[0m\n",
            "\u001b[?25hCollecting azure-core>=1.28.0 (from azure-storage-blob)\n",
            "  Downloading azure_core-1.30.1-py3-none-any.whl (193 kB)\n",
            "\u001b[2K     \u001b[90m━━━━━━━━━━━━━━━━━━━━━━━━━━━━━━━━━━━━━━━━\u001b[0m \u001b[32m193.4/193.4 kB\u001b[0m \u001b[31m12.3 MB/s\u001b[0m eta \u001b[36m0:00:00\u001b[0m\n",
            "\u001b[?25hRequirement already satisfied: cryptography>=2.1.4 in /usr/local/lib/python3.10/dist-packages (from azure-storage-blob) (42.0.7)\n",
            "Requirement already satisfied: typing-extensions>=4.6.0 in /usr/local/lib/python3.10/dist-packages (from azure-storage-blob) (4.11.0)\n",
            "Collecting isodate>=0.6.1 (from azure-storage-blob)\n",
            "  Downloading isodate-0.6.1-py2.py3-none-any.whl (41 kB)\n",
            "\u001b[2K     \u001b[90m━━━━━━━━━━━━━━━━━━━━━━━━━━━━━━━━━━━━━━━━\u001b[0m \u001b[32m41.7/41.7 kB\u001b[0m \u001b[31m3.4 MB/s\u001b[0m eta \u001b[36m0:00:00\u001b[0m\n",
            "\u001b[?25hRequirement already satisfied: requests>=2.21.0 in /usr/local/lib/python3.10/dist-packages (from azure-core>=1.28.0->azure-storage-blob) (2.31.0)\n",
            "Requirement already satisfied: six>=1.11.0 in /usr/local/lib/python3.10/dist-packages (from azure-core>=1.28.0->azure-storage-blob) (1.16.0)\n",
            "Requirement already satisfied: cffi>=1.12 in /usr/local/lib/python3.10/dist-packages (from cryptography>=2.1.4->azure-storage-blob) (1.16.0)\n",
            "Requirement already satisfied: pycparser in /usr/local/lib/python3.10/dist-packages (from cffi>=1.12->cryptography>=2.1.4->azure-storage-blob) (2.22)\n",
            "Requirement already satisfied: charset-normalizer<4,>=2 in /usr/local/lib/python3.10/dist-packages (from requests>=2.21.0->azure-core>=1.28.0->azure-storage-blob) (3.3.2)\n",
            "Requirement already satisfied: idna<4,>=2.5 in /usr/local/lib/python3.10/dist-packages (from requests>=2.21.0->azure-core>=1.28.0->azure-storage-blob) (3.7)\n",
            "Requirement already satisfied: urllib3<3,>=1.21.1 in /usr/local/lib/python3.10/dist-packages (from requests>=2.21.0->azure-core>=1.28.0->azure-storage-blob) (2.0.7)\n",
            "Requirement already satisfied: certifi>=2017.4.17 in /usr/local/lib/python3.10/dist-packages (from requests>=2.21.0->azure-core>=1.28.0->azure-storage-blob) (2024.2.2)\n",
            "Installing collected packages: isodate, azure-core, azure-storage-blob\n",
            "Successfully installed azure-core-1.30.1 azure-storage-blob-12.20.0 isodate-0.6.1\n",
            "Collecting boto3\n",
            "  Downloading boto3-1.34.105-py3-none-any.whl (139 kB)\n",
            "\u001b[2K     \u001b[90m━━━━━━━━━━━━━━━━━━━━━━━━━━━━━━━━━━━━━━━━\u001b[0m \u001b[32m139.3/139.3 kB\u001b[0m \u001b[31m840.0 kB/s\u001b[0m eta \u001b[36m0:00:00\u001b[0m\n",
            "\u001b[?25hCollecting botocore<1.35.0,>=1.34.105 (from boto3)\n",
            "  Downloading botocore-1.34.105-py3-none-any.whl (12.2 MB)\n",
            "\u001b[2K     \u001b[90m━━━━━━━━━━━━━━━━━━━━━━━━━━━━━━━━━━━━━━━━\u001b[0m \u001b[32m12.2/12.2 MB\u001b[0m \u001b[31m36.7 MB/s\u001b[0m eta \u001b[36m0:00:00\u001b[0m\n",
            "\u001b[?25hCollecting jmespath<2.0.0,>=0.7.1 (from boto3)\n",
            "  Downloading jmespath-1.0.1-py3-none-any.whl (20 kB)\n",
            "Collecting s3transfer<0.11.0,>=0.10.0 (from boto3)\n",
            "  Downloading s3transfer-0.10.1-py3-none-any.whl (82 kB)\n",
            "\u001b[2K     \u001b[90m━━━━━━━━━━━━━━━━━━━━━━━━━━━━━━━━━━━━━━━━\u001b[0m \u001b[32m82.2/82.2 kB\u001b[0m \u001b[31m5.5 MB/s\u001b[0m eta \u001b[36m0:00:00\u001b[0m\n",
            "\u001b[?25hRequirement already satisfied: python-dateutil<3.0.0,>=2.1 in /usr/local/lib/python3.10/dist-packages (from botocore<1.35.0,>=1.34.105->boto3) (2.8.2)\n",
            "Requirement already satisfied: urllib3!=2.2.0,<3,>=1.25.4 in /usr/local/lib/python3.10/dist-packages (from botocore<1.35.0,>=1.34.105->boto3) (2.0.7)\n",
            "Requirement already satisfied: six>=1.5 in /usr/local/lib/python3.10/dist-packages (from python-dateutil<3.0.0,>=2.1->botocore<1.35.0,>=1.34.105->boto3) (1.16.0)\n",
            "Installing collected packages: jmespath, botocore, s3transfer, boto3\n",
            "Successfully installed boto3-1.34.105 botocore-1.34.105 jmespath-1.0.1 s3transfer-0.10.1\n",
            "Requirement already satisfied: google-cloud-storage in /usr/local/lib/python3.10/dist-packages (2.8.0)\n",
            "Requirement already satisfied: google-auth<3.0dev,>=1.25.0 in /usr/local/lib/python3.10/dist-packages (from google-cloud-storage) (2.27.0)\n",
            "Requirement already satisfied: google-api-core!=2.0.*,!=2.1.*,!=2.2.*,!=2.3.0,<3.0.0dev,>=1.31.5 in /usr/local/lib/python3.10/dist-packages (from google-cloud-storage) (2.11.1)\n",
            "Requirement already satisfied: google-cloud-core<3.0dev,>=2.3.0 in /usr/local/lib/python3.10/dist-packages (from google-cloud-storage) (2.3.3)\n",
            "Requirement already satisfied: google-resumable-media>=2.3.2 in /usr/local/lib/python3.10/dist-packages (from google-cloud-storage) (2.7.0)\n",
            "Requirement already satisfied: requests<3.0.0dev,>=2.18.0 in /usr/local/lib/python3.10/dist-packages (from google-cloud-storage) (2.31.0)\n",
            "Requirement already satisfied: googleapis-common-protos<2.0.dev0,>=1.56.2 in /usr/local/lib/python3.10/dist-packages (from google-api-core!=2.0.*,!=2.1.*,!=2.2.*,!=2.3.0,<3.0.0dev,>=1.31.5->google-cloud-storage) (1.63.0)\n",
            "Requirement already satisfied: protobuf!=3.20.0,!=3.20.1,!=4.21.0,!=4.21.1,!=4.21.2,!=4.21.3,!=4.21.4,!=4.21.5,<5.0.0.dev0,>=3.19.5 in /usr/local/lib/python3.10/dist-packages (from google-api-core!=2.0.*,!=2.1.*,!=2.2.*,!=2.3.0,<3.0.0dev,>=1.31.5->google-cloud-storage) (3.20.3)\n",
            "Requirement already satisfied: cachetools<6.0,>=2.0.0 in /usr/local/lib/python3.10/dist-packages (from google-auth<3.0dev,>=1.25.0->google-cloud-storage) (5.3.3)\n",
            "Requirement already satisfied: pyasn1-modules>=0.2.1 in /usr/local/lib/python3.10/dist-packages (from google-auth<3.0dev,>=1.25.0->google-cloud-storage) (0.4.0)\n",
            "Requirement already satisfied: rsa<5,>=3.1.4 in /usr/local/lib/python3.10/dist-packages (from google-auth<3.0dev,>=1.25.0->google-cloud-storage) (4.9)\n",
            "Requirement already satisfied: google-crc32c<2.0dev,>=1.0 in /usr/local/lib/python3.10/dist-packages (from google-resumable-media>=2.3.2->google-cloud-storage) (1.5.0)\n",
            "Requirement already satisfied: charset-normalizer<4,>=2 in /usr/local/lib/python3.10/dist-packages (from requests<3.0.0dev,>=2.18.0->google-cloud-storage) (3.3.2)\n",
            "Requirement already satisfied: idna<4,>=2.5 in /usr/local/lib/python3.10/dist-packages (from requests<3.0.0dev,>=2.18.0->google-cloud-storage) (3.7)\n",
            "Requirement already satisfied: urllib3<3,>=1.21.1 in /usr/local/lib/python3.10/dist-packages (from requests<3.0.0dev,>=2.18.0->google-cloud-storage) (2.0.7)\n",
            "Requirement already satisfied: certifi>=2017.4.17 in /usr/local/lib/python3.10/dist-packages (from requests<3.0.0dev,>=2.18.0->google-cloud-storage) (2024.2.2)\n",
            "Requirement already satisfied: pyasn1<0.7.0,>=0.4.6 in /usr/local/lib/python3.10/dist-packages (from pyasn1-modules>=0.2.1->google-auth<3.0dev,>=1.25.0->google-cloud-storage) (0.6.0)\n"
          ]
        }
      ],
      "source": [
        "!pip install azure-storage-blob\n",
        "!pip install boto3\n",
        "!pip install google-cloud-storage"
      ]
    },
    {
      "cell_type": "code",
      "source": [
        "# import Librairies\n",
        "import pandas as pd\n",
        "import numpy as  np\n",
        "import json\n",
        "import requests\n",
        "import boto3\n",
        "from azure.storage.blob import BlobServiceClient, BlobClient, ContainerClient\n",
        "from google.cloud import storage\n",
        "from io import StringIO"
      ],
      "metadata": {
        "id": "sZKKEtCjUK-k"
      },
      "execution_count": 2,
      "outputs": []
    },
    {
      "cell_type": "code",
      "source": [
        "# Function\n",
        "\n",
        "import os\n",
        "import boto3\n",
        "from azure.storage.blob import BlobServiceClient\n",
        "from google.cloud import storage\n",
        "import pandas as pd\n",
        "from io import BytesIO, StringIO\n",
        "\n",
        "# Azure Functions\n",
        "def azure_upload_blob(connect_str, container_name, blob_name, data):\n",
        "    blob_service_client = BlobServiceClient.from_connection_string(connect_str)\n",
        "    blob_client = blob_service_client.get_blob_client(container=container_name, blob=blob_name)\n",
        "    blob_client.upload_blob(data, overwrite=True)\n",
        "    print(f\"Uploaded to Azure Blob: {blob_name}\")\n",
        "\n",
        "def azure_download_blob(connect_str, container_name, blob_name):\n",
        "    blob_service_client = BlobServiceClient.from_connection_string(connect_str)\n",
        "    blob_client = blob_service_client.get_blob_client(container=container_name, blob=blob_name)\n",
        "    download_stream = blob_client.download_blob()\n",
        "    return download_stream.readall()"
      ],
      "metadata": {
        "id": "d31_d0eHUOgv"
      },
      "execution_count": 3,
      "outputs": []
    },
    {
      "cell_type": "code",
      "source": [
        "df = pd.read_csv('transformed_legally_operating_businesses.csv')\n",
        "df\n",
        "df.head()\n",
        "print(df.columns)"
      ],
      "metadata": {
        "colab": {
          "base_uri": "https://localhost:8080/"
        },
        "id": "xtQYib_DUpud",
        "outputId": "babbd9f2-12d6-45c2-d7f7-d69ed5297dd7"
      },
      "execution_count": 4,
      "outputs": [
        {
          "output_type": "stream",
          "name": "stdout",
          "text": [
            "Index(['license_nbr', 'license_type', 'lic_expir_dd', 'license_status',\n",
            "       'license_creation_date', 'business_name', 'address_building',\n",
            "       'address_street_name', 'address_city', 'address_state', 'address_zip',\n",
            "       'contact_phone', 'address_borough', 'detail', 'community_board',\n",
            "       'council_district', 'bin', 'bbl', 'nta', 'census_tract', 'longitude',\n",
            "       'latitude', 'location', 'Year', 'Month', 'Day',\n",
            "       'industry_Amusement Device Temporary', 'industry_Auctioneer',\n",
            "       'industry_Bingo Game Operator', 'industry_Car Wash',\n",
            "       'industry_Construction Labor Provider', 'industry_Dealer In Products',\n",
            "       'industry_Debt Collection Agency',\n",
            "       'industry_Electronic & Appliance Service',\n",
            "       'industry_Electronic Cigarette Dealer', 'industry_Electronics Store',\n",
            "       'industry_Employment Agency', 'industry_Garage',\n",
            "       'industry_Garage and Parking Lot', 'industry_General Vendor',\n",
            "       'industry_Home Improvement Contractor',\n",
            "       'industry_Home Improvement Salesperson', 'industry_Horse Drawn Driver',\n",
            "       'industry_Laundries', 'industry_Laundry', 'industry_Laundry Jobber',\n",
            "       'industry_Locksmith', 'industry_Motion Picture Projectionist',\n",
            "       'industry_Newsstand', 'industry_Parking Lot', 'industry_Pawnbroker',\n",
            "       'industry_Pedicab Business', 'industry_Pedicab Driver',\n",
            "       'industry_Pool or Billiard Room', 'industry_Process Server Individual',\n",
            "       'industry_Process Serving Agency', 'industry_Scale Dealer Repairer',\n",
            "       'industry_Secondhand Dealer - Auto',\n",
            "       'industry_Secondhand Dealer - General', 'industry_Sidewalk Cafe',\n",
            "       'industry_Sightseeing Guide', 'industry_Special Sale',\n",
            "       'industry_Stoop Line Stand', 'industry_Third Party Food Delivery',\n",
            "       'industry_Ticket Seller', 'industry_Tobacco Retail Dealer',\n",
            "       'industry_Tow Truck Company', 'industry_Tow Truck Driver',\n",
            "       'Days_Until_Expiry'],\n",
            "      dtype='object')\n"
          ]
        }
      ]
    },
    {
      "cell_type": "code",
      "source": [
        "df.shape"
      ],
      "metadata": {
        "colab": {
          "base_uri": "https://localhost:8080/"
        },
        "id": "yqu9tAX7XqmB",
        "outputId": "528fbf9a-3e2f-492c-da6e-70d33bc05fc6"
      },
      "execution_count": 5,
      "outputs": [
        {
          "output_type": "execute_result",
          "data": {
            "text/plain": [
              "(1000, 69)"
            ]
          },
          "metadata": {},
          "execution_count": 5
        }
      ]
    },
    {
      "cell_type": "code",
      "source": [
        "df.info()"
      ],
      "metadata": {
        "colab": {
          "base_uri": "https://localhost:8080/"
        },
        "id": "2o1VKY4vXzJC",
        "outputId": "c9176254-922a-430f-c367-0bfa1574bb1c"
      },
      "execution_count": 6,
      "outputs": [
        {
          "output_type": "stream",
          "name": "stdout",
          "text": [
            "<class 'pandas.core.frame.DataFrame'>\n",
            "RangeIndex: 1000 entries, 0 to 999\n",
            "Data columns (total 69 columns):\n",
            " #   Column                                   Non-Null Count  Dtype  \n",
            "---  ------                                   --------------  -----  \n",
            " 0   license_nbr                              1000 non-null   object \n",
            " 1   license_type                             1000 non-null   object \n",
            " 2   lic_expir_dd                             979 non-null    object \n",
            " 3   license_status                           1000 non-null   object \n",
            " 4   license_creation_date                    1000 non-null   object \n",
            " 5   business_name                            1000 non-null   object \n",
            " 6   address_building                         1000 non-null   object \n",
            " 7   address_street_name                      733 non-null    object \n",
            " 8   address_city                             1000 non-null   object \n",
            " 9   address_state                            1000 non-null   object \n",
            " 10  address_zip                              1000 non-null   object \n",
            " 11  contact_phone                            1000 non-null   object \n",
            " 12  address_borough                          1000 non-null   object \n",
            " 13  detail                                   695 non-null    float64\n",
            " 14  community_board                          679 non-null    float64\n",
            " 15  council_district                         684 non-null    float64\n",
            " 16  bin                                      655 non-null    float64\n",
            " 17  bbl                                      655 non-null    float64\n",
            " 18  nta                                      409 non-null    object \n",
            " 19  census_tract                             409 non-null    float64\n",
            " 20  longitude                                1000 non-null   float64\n",
            " 21  latitude                                 1000 non-null   float64\n",
            " 22  location                                 685 non-null    object \n",
            " 23  Year                                     1000 non-null   int64  \n",
            " 24  Month                                    1000 non-null   int64  \n",
            " 25  Day                                      1000 non-null   int64  \n",
            " 26  industry_Amusement Device Temporary      1000 non-null   bool   \n",
            " 27  industry_Auctioneer                      1000 non-null   bool   \n",
            " 28  industry_Bingo Game Operator             1000 non-null   bool   \n",
            " 29  industry_Car Wash                        1000 non-null   bool   \n",
            " 30  industry_Construction Labor Provider     1000 non-null   bool   \n",
            " 31  industry_Dealer In Products              1000 non-null   bool   \n",
            " 32  industry_Debt Collection Agency          1000 non-null   bool   \n",
            " 33  industry_Electronic & Appliance Service  1000 non-null   bool   \n",
            " 34  industry_Electronic Cigarette Dealer     1000 non-null   bool   \n",
            " 35  industry_Electronics Store               1000 non-null   bool   \n",
            " 36  industry_Employment Agency               1000 non-null   bool   \n",
            " 37  industry_Garage                          1000 non-null   bool   \n",
            " 38  industry_Garage and Parking Lot          1000 non-null   bool   \n",
            " 39  industry_General Vendor                  1000 non-null   bool   \n",
            " 40  industry_Home Improvement Contractor     1000 non-null   bool   \n",
            " 41  industry_Home Improvement Salesperson    1000 non-null   bool   \n",
            " 42  industry_Horse Drawn Driver              1000 non-null   bool   \n",
            " 43  industry_Laundries                       1000 non-null   bool   \n",
            " 44  industry_Laundry                         1000 non-null   bool   \n",
            " 45  industry_Laundry Jobber                  1000 non-null   bool   \n",
            " 46  industry_Locksmith                       1000 non-null   bool   \n",
            " 47  industry_Motion Picture Projectionist    1000 non-null   bool   \n",
            " 48  industry_Newsstand                       1000 non-null   bool   \n",
            " 49  industry_Parking Lot                     1000 non-null   bool   \n",
            " 50  industry_Pawnbroker                      1000 non-null   bool   \n",
            " 51  industry_Pedicab Business                1000 non-null   bool   \n",
            " 52  industry_Pedicab Driver                  1000 non-null   bool   \n",
            " 53  industry_Pool or Billiard Room           1000 non-null   bool   \n",
            " 54  industry_Process Server Individual       1000 non-null   bool   \n",
            " 55  industry_Process Serving Agency          1000 non-null   bool   \n",
            " 56  industry_Scale Dealer Repairer           1000 non-null   bool   \n",
            " 57  industry_Secondhand Dealer - Auto        1000 non-null   bool   \n",
            " 58  industry_Secondhand Dealer - General     1000 non-null   bool   \n",
            " 59  industry_Sidewalk Cafe                   1000 non-null   bool   \n",
            " 60  industry_Sightseeing Guide               1000 non-null   bool   \n",
            " 61  industry_Special Sale                    1000 non-null   bool   \n",
            " 62  industry_Stoop Line Stand                1000 non-null   bool   \n",
            " 63  industry_Third Party Food Delivery       1000 non-null   bool   \n",
            " 64  industry_Ticket Seller                   1000 non-null   bool   \n",
            " 65  industry_Tobacco Retail Dealer           1000 non-null   bool   \n",
            " 66  industry_Tow Truck Company               1000 non-null   bool   \n",
            " 67  industry_Tow Truck Driver                1000 non-null   bool   \n",
            " 68  Days_Until_Expiry                        979 non-null    float64\n",
            "dtypes: bool(42), float64(9), int64(3), object(15)\n",
            "memory usage: 252.1+ KB\n"
          ]
        }
      ]
    },
    {
      "cell_type": "code",
      "source": [
        "df_cleaned = df.copy()"
      ],
      "metadata": {
        "id": "nYmUBVJUX7-p"
      },
      "execution_count": 7,
      "outputs": []
    },
    {
      "cell_type": "code",
      "source": [
        "CONNECTION_STRING_AZURE_STORAGE = \"DefaultEndpointsProtocol=https;AccountName=luhwcis9440;AccountKey=H3c+op3EGpqzz+BLf+wSLdKr5Ga7HYy5yt4ikGXOCnRYuTwiJZmF47VuABK9MWu+dcpPJKcrRYxG+AStg7TbbA==;EndpointSuffix=core.windows.net\"\n",
        "CONTAINER_AZURE = 'license'\n",
        "blob_name = \"license.csv\"\n",
        "# Convert DataFrame to CSV\n",
        "output = StringIO()\n",
        "df.to_csv(output, index=False)\n",
        "data = output.getvalue()\n",
        "output.close()\n",
        "\n",
        "# Create the BlobServiceClient object\n",
        "blob_service_client = BlobServiceClient.from_connection_string(CONNECTION_STRING_AZURE_STORAGE)\n",
        "\n",
        "# Get a blob client using the container name and blob name\n",
        "blob_client = blob_service_client.get_blob_client(container=CONTAINER_AZURE, blob=blob_name)\n",
        "\n",
        "# Upload the CSV data\n",
        "blob_client.upload_blob(data, overwrite=True)\n",
        "\n",
        "print(f\"Uploaded {blob_name} to Azure Blob Storage in container {CONTAINER_AZURE}.\")"
      ],
      "metadata": {
        "colab": {
          "base_uri": "https://localhost:8080/"
        },
        "id": "mj-rIc8IX_A8",
        "outputId": "c93fb734-9f75-4da4-e5c0-3de24dec2c27"
      },
      "execution_count": 9,
      "outputs": [
        {
          "output_type": "stream",
          "name": "stdout",
          "text": [
            "Uploaded license.csv to Azure Blob Storage in container license.\n"
          ]
        }
      ]
    }
  ]
}