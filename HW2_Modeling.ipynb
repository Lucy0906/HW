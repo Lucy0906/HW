{
  "nbformat": 4,
  "nbformat_minor": 0,
  "metadata": {
    "colab": {
      "provenance": []
    },
    "kernelspec": {
      "name": "python3",
      "display_name": "Python 3"
    },
    "language_info": {
      "name": "python"
    }
  },
  "cells": [
    {
      "cell_type": "code",
      "execution_count": 2,
      "metadata": {
        "colab": {
          "base_uri": "https://localhost:8080/",
          "height": 109
        },
        "id": "k5gLXPxd-s3k",
        "outputId": "3b085269-648d-45d0-d9b4-da3de1ca362f"
      },
      "outputs": [
        {
          "output_type": "error",
          "ename": "SyntaxError",
          "evalue": "invalid syntax (<ipython-input-2-efa4ddae545f>, line 1)",
          "traceback": [
            "\u001b[0;36m  File \u001b[0;32m\"<ipython-input-2-efa4ddae545f>\"\u001b[0;36m, line \u001b[0;32m1\u001b[0m\n\u001b[0;31m    -- Create Dimension Table for Business Types\u001b[0m\n\u001b[0m              ^\u001b[0m\n\u001b[0;31mSyntaxError\u001b[0m\u001b[0;31m:\u001b[0m invalid syntax\n"
          ]
        }
      ],
      "source": [
        "\n",
        "-- Create Dimension Table for Business Types\n",
        "\n",
        "create table\n",
        "\n",
        "  DimBusinessType (\n",
        "\n",
        "    BusinessTypeID int primary key,\n",
        "\n",
        "    TypeName varchar(255)\n",
        "\n",
        "  );\n",
        "\n",
        "\n",
        "-- Create Dimension Table for Dates\n",
        "\n",
        "create table\n",
        "\n",
        "  DimDate (\n",
        "\n",
        "    DateID int primary key,\n",
        "\n",
        "    year int,\n",
        "\n",
        "    month int,\n",
        "\n",
        "    day int\n",
        "\n",
        "  );\n",
        "\n",
        "\n",
        "-- Create Fact Table for Business Operations\n",
        "\n",
        "create table\n",
        "\n",
        "  FactBusinessOperations (\n",
        "\n",
        "    OperationID int primary key,\n",
        "\n",
        "    BusinessTypeID int,\n",
        "\n",
        "    DateID int,\n",
        "\n",
        "    LicenseNumber varchar(255),\n",
        "\n",
        "    BusinessName varchar(255),\n",
        "\n",
        "    Address varchar(255),\n",
        "\n",
        "    ContactPhone varchar(255),\n",
        "\n",
        "    Status varchar(255),\n",
        "\n",
        "    foreign key (BusinessTypeID) references DimBusinessType (BusinessTypeID),\n",
        "\n",
        "    foreign key (DateID) references DimDate (DateID)\n",
        "\n",
        "  );"
      ]
    }
  ]
}