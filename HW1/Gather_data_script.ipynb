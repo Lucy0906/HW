{
  "nbformat": 4,
  "nbformat_minor": 0,
  "metadata": {
    "colab": {
      "provenance": []
    },
    "kernelspec": {
      "name": "python3",
      "display_name": "Python 3"
    },
    "language_info": {
      "name": "python"
    }
  },
  "cells": [
    {
      "cell_type": "code",
      "execution_count": 1,
      "metadata": {
        "colab": {
          "base_uri": "https://localhost:8080/"
        },
        "id": "b_xP_ewabBKU",
        "outputId": "69620350-c712-4ba8-bc56-a831852ed023"
      },
      "outputs": [
        {
          "output_type": "stream",
          "name": "stdout",
          "text": [
            "Failed to fetch data. Status code: 403\n"
          ]
        }
      ],
      "source": [
        "import requests\n",
        "import pandas as pd\n",
        "\n",
        "# Set the API endpoint\n",
        "url = 'https://data.cityofnewyork.us/resource/w7w3-xahh.json'\n",
        "\n",
        "# If you have an app token, use it here\n",
        "headers = {\n",
        "    'X-App-Token': 'YourAppToken'\n",
        "}\n",
        "\n",
        "# Make the API request\n",
        "response = requests.get(url, headers=headers)\n",
        "\n",
        "# Check if the request was successful\n",
        "if response.status_code == 200:\n",
        "    # Load data into a DataFrame\n",
        "    data = pd.read_json(response.text)\n",
        "\n",
        "    # Optional: Preprocess data (e.g., rename columns, handle missing values, etc.)\n",
        "    data.rename(columns={'business_name': 'Business Name', 'license_nbr': 'License Number'}, inplace=True)\n",
        "\n",
        "    # Save the DataFrame to a CSV file\n",
        "    data.to_csv('NYC_Legally_Operating_Businesses.csv', index=False)\n",
        "    print(\"Data has been successfully fetched and saved.\")\n",
        "else:\n",
        "    print(\"Failed to fetch data. Status code:\", response.status_code)\n",
        "\n"
      ]
    }
  ]
}