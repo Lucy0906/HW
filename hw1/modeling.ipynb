{
  "nbformat": 4,
  "nbformat_minor": 0,
  "metadata": {
    "colab": {
      "provenance": []
    },
    "kernelspec": {
      "name": "python3",
      "display_name": "Python 3"
    },
    "language_info": {
      "name": "python"
    }
  },
  "cells": [
    {
      "cell_type": "code",
      "execution_count": 4,
      "metadata": {
        "colab": {
          "base_uri": "https://localhost:8080/",
          "height": 109
        },
        "id": "ICuT7tezfyK8",
        "outputId": "b4a143ae-9062-47e4-cacb-3eb955385df8"
      },
      "outputs": [
        {
          "output_type": "error",
          "ename": "SyntaxError",
          "evalue": "invalid syntax (<ipython-input-4-6fa7c85dfae8>, line 2)",
          "traceback": [
            "\u001b[0;36m  File \u001b[0;32m\"<ipython-input-4-6fa7c85dfae8>\"\u001b[0;36m, line \u001b[0;32m2\u001b[0m\n\u001b[0;31m    CREATE TABLE DimDate (\u001b[0m\n\u001b[0m           ^\u001b[0m\n\u001b[0;31mSyntaxError\u001b[0m\u001b[0;31m:\u001b[0m invalid syntax\n"
          ]
        }
      ],
      "source": [
        "# Creating the Date Dimension Table\n",
        "CREATE TABLE DimDate (\n",
        "    DateID INT PRIMARY KEY,\n",
        "    ValuationDate DATE\n",
        ");\n",
        "\n",
        "# Creating the Borough Dimension Table\n",
        "CREATE TABLE DimBorough (\n",
        "    BoroughID INT PRIMARY KEY,\n",
        "    BoroughName VARCHAR(255)\n",
        ");\n",
        "\n",
        "# Assuming you need to define the PropertyType Table\n",
        "CREATE TABLE DimPropertyType (\n",
        "    PropertyTypeID INT PRIMARY KEY,\n",
        "    TypeName VARCHAR(255),\n",
        "    TypeDescription VARCHAR(255)  -- Example additional field\n",
        ");\n",
        "\n",
        "# Creating the Fact Table for Property Valuations\n",
        "CREATE TABLE FactPropertyValuations (\n",
        "    PropertyID INT PRIMARY KEY,\n",
        "    ValuationDateID INT,\n",
        "    PropertyTypeID INT,\n",
        "    BoroughID INT,\n",
        "    AssessedValue DECIMAL(15, 2),\n",
        "    MarketValue DECIMAL(15, 2),\n",
        "    FOREIGN KEY (ValuationDateID) REFERENCES DimDate (DateID),\n",
        "    FOREIGN KEY (PropertyTypeID) REFERENCES DimPropertyType (PropertyTypeID),\n",
        "    FOREIGN KEY (BoroughID) REFERENCES DimBorough (BoroughID)\n",
        ");\n",
        "\n"
      ]
    }
  ]
}
